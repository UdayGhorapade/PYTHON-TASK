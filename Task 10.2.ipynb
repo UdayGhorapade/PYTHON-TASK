{
 "cells": [
  {
   "cell_type": "markdown",
   "id": "1ef000e4",
   "metadata": {},
   "source": [
    "# Pass keyword\n",
    "1)pass keyword does nothing but you can avoid getting an error when empty code is not allowed. Empty code is not allowed in loops,if else conditions,functions,Classes etc\n",
    "2)when we need a perticular loops,class or function in our program ,but dont know what goes in it ,we place the pass statement in it .\n",
    "3)the interpreter doen not ignore it ,but it performs a no-operation(NOP)\n",
    "4)it is used to fill indented spaces."
   ]
  },
  {
   "cell_type": "code",
   "execution_count": 2,
   "id": "6345b05d",
   "metadata": {},
   "outputs": [],
   "source": [
    "num=100\n",
    "if num<150:\n",
    "    pass\n",
    "else:\n",
    "    print('ok')"
   ]
  },
  {
   "cell_type": "code",
   "execution_count": null,
   "id": "44af0e2b",
   "metadata": {},
   "outputs": [],
   "source": []
  }
 ],
 "metadata": {
  "kernelspec": {
   "display_name": "Python 3 (ipykernel)",
   "language": "python",
   "name": "python3"
  },
  "language_info": {
   "codemirror_mode": {
    "name": "ipython",
    "version": 3
   },
   "file_extension": ".py",
   "mimetype": "text/x-python",
   "name": "python",
   "nbconvert_exporter": "python",
   "pygments_lexer": "ipython3",
   "version": "3.9.7"
  }
 },
 "nbformat": 4,
 "nbformat_minor": 5
}
