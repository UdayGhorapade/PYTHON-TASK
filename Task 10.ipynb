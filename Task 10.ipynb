{
 "cells": [
  {
   "cell_type": "markdown",
   "id": "52ae4ae3",
   "metadata": {},
   "source": [
    "# using while loop print numbers from 10 to 1"
   ]
  },
  {
   "cell_type": "code",
   "execution_count": 20,
   "id": "f256b1d9",
   "metadata": {},
   "outputs": [
    {
     "name": "stdout",
     "output_type": "stream",
     "text": [
      "10\n",
      "9\n",
      "8\n",
      "7\n",
      "6\n",
      "5\n",
      "4\n",
      "3\n",
      "2\n",
      "1\n"
     ]
    }
   ],
   "source": [
    "count=10\n",
    "while count > 0:\n",
    "    print(count)\n",
    "    count=count-1\n",
    "\n"
   ]
  },
  {
   "cell_type": "markdown",
   "id": "0d12fa8a",
   "metadata": {},
   "source": [
    "# try using for loop to loop over tuples,sets and dictionaries"
   ]
  },
  {
   "cell_type": "code",
   "execution_count": 37,
   "id": "ba5accb2",
   "metadata": {},
   "outputs": [
    {
     "name": "stdout",
     "output_type": "stream",
     "text": [
      "1\n",
      "2\n",
      "3\n",
      "4\n",
      "5\n",
      "uday\n",
      "2.5\n"
     ]
    }
   ],
   "source": [
    "#loop over tuples\n",
    "tup1=('1','2','3','4','5','uday','2.5')\n",
    "for x in tup1:\n",
    "    print(x)"
   ]
  },
  {
   "cell_type": "code",
   "execution_count": 34,
   "id": "27e97908",
   "metadata": {},
   "outputs": [
    {
     "name": "stdout",
     "output_type": "stream",
     "text": [
      "1\n",
      "2\n",
      "3\n",
      "4\n",
      "5\n",
      "6\n"
     ]
    }
   ],
   "source": [
    "#loop over sets\n",
    "set={1,2,3,4,5,6}\n",
    "for x in set:\n",
    "    print(x)"
   ]
  },
  {
   "cell_type": "code",
   "execution_count": 36,
   "id": "14a5a260",
   "metadata": {},
   "outputs": [
    {
     "name": "stdout",
     "output_type": "stream",
     "text": [
      "pulsar\n",
      "hero\n",
      "90000\n",
      "80000\n"
     ]
    }
   ],
   "source": [
    "#loop over dictionaries\n",
    "bike={'pulsar':90000,'hero':80000,}\n",
    "for key in bike.keys():\n",
    "    print(key)\n",
    "for value in bike.values():\n",
    "    print(value)"
   ]
  },
  {
   "cell_type": "code",
   "execution_count": null,
   "id": "9450fbb9",
   "metadata": {},
   "outputs": [],
   "source": []
  }
 ],
 "metadata": {
  "kernelspec": {
   "display_name": "Python 3 (ipykernel)",
   "language": "python",
   "name": "python3"
  },
  "language_info": {
   "codemirror_mode": {
    "name": "ipython",
    "version": 3
   },
   "file_extension": ".py",
   "mimetype": "text/x-python",
   "name": "python",
   "nbconvert_exporter": "python",
   "pygments_lexer": "ipython3",
   "version": "3.9.7"
  }
 },
 "nbformat": 4,
 "nbformat_minor": 5
}
