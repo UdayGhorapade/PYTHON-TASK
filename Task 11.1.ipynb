{
 "cells": [
  {
   "cell_type": "markdown",
   "id": "0e80e8d7",
   "metadata": {},
   "source": [
    "# return keyword\n",
    "1)return keyword can be used to return values from a function\n",
    "2)it can be used to end the execution of a function\n",
    "3)statements below return keyword will not get executed"
   ]
  },
  {
   "cell_type": "code",
   "execution_count": 1,
   "id": "9e84c2b3",
   "metadata": {},
   "outputs": [],
   "source": [
    "# Ex1) returning sum\n",
    "def add(x,y):\n",
    "    z = x + y\n",
    "    return z\n",
    "    print(z) #will not be executed"
   ]
  },
  {
   "cell_type": "code",
   "execution_count": 2,
   "id": "dc93ff9b",
   "metadata": {},
   "outputs": [
    {
     "data": {
      "text/plain": [
       "90"
      ]
     },
     "execution_count": 2,
     "metadata": {},
     "output_type": "execute_result"
    }
   ],
   "source": [
    "sum=add(40,50)\n",
    "sum"
   ]
  }
 ],
 "metadata": {
  "kernelspec": {
   "display_name": "Python 3 (ipykernel)",
   "language": "python",
   "name": "python3"
  },
  "language_info": {
   "codemirror_mode": {
    "name": "ipython",
    "version": 3
   },
   "file_extension": ".py",
   "mimetype": "text/x-python",
   "name": "python",
   "nbconvert_exporter": "python",
   "pygments_lexer": "ipython3",
   "version": "3.9.7"
  }
 },
 "nbformat": 4,
 "nbformat_minor": 5
}
