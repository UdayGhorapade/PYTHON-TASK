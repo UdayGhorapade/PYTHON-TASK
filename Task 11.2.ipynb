{
 "cells": [
  {
   "cell_type": "code",
   "execution_count": 2,
   "id": "f98b3754",
   "metadata": {},
   "outputs": [
    {
     "name": "stdout",
     "output_type": "stream",
     "text": [
      "enter the 1st number:20\n",
      "enter the 2nd number:4\n",
      "enter 1 for addition;enter 2 for subtraction;enter  for multiplication;enter 4 for division:1\n",
      "24\n"
     ]
    }
   ],
   "source": [
    "num1=int(input('enter the 1st number:'))\n",
    "num2=int(input('enter the 2nd number:'))\n",
    "num3=int(input('enter 1 for addition;enter 2 for subtraction;enter  for multiplication;enter 4 for division:'))\n",
    "def add():\n",
    "    ans=num1+num2\n",
    "    print(ans)\n",
    "def sub():\n",
    "    ans=num1-num2\n",
    "    print(ans)\n",
    "def mult():\n",
    "    ans=num1*num2\n",
    "    print(ans)\n",
    "def div():\n",
    "    ans=num1/num2\n",
    "    print(ans)\n",
    "if(num3==1):\n",
    "    add()\n",
    "elif(num3==2):\n",
    "    sub()\n",
    "elif(num3==3):\n",
    "    mult()\n",
    "elif(num3==4):\n",
    "    div()\n",
    "else:\n",
    "    print('invalid entry by operator')"
   ]
  },
  {
   "cell_type": "code",
   "execution_count": null,
   "id": "e844f4f5",
   "metadata": {},
   "outputs": [],
   "source": []
  }
 ],
 "metadata": {
  "kernelspec": {
   "display_name": "Python 3 (ipykernel)",
   "language": "python",
   "name": "python3"
  },
  "language_info": {
   "codemirror_mode": {
    "name": "ipython",
    "version": 3
   },
   "file_extension": ".py",
   "mimetype": "text/x-python",
   "name": "python",
   "nbconvert_exporter": "python",
   "pygments_lexer": "ipython3",
   "version": "3.9.7"
  }
 },
 "nbformat": 4,
 "nbformat_minor": 5
}
