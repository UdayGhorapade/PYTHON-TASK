{
 "cells": [
  {
   "cell_type": "code",
   "execution_count": 2,
   "id": "ee231ebd",
   "metadata": {},
   "outputs": [
    {
     "name": "stdout",
     "output_type": "stream",
     "text": [
      "Enter 1st number :20\n",
      "Enter 2nd number :2\n",
      "For operation press 3\n",
      "Answer is : 40\n"
     ]
    }
   ],
   "source": [
    "x = int(input(\"Enter 1st number :\"))\n",
    "y = int(input(\"Enter 2nd number :\"))\n",
    "z = int(input(\"For operation press \"))\n",
    "add=x+y\n",
    "sub=x-y\n",
    "mult=x*y\n",
    "div=x/y\n",
    "if (z==1):\n",
    "          print(\"Answer is :\",add)\n",
    "elif(z==2):\n",
    "    print(\"Answer is :\",sub)\n",
    "elif(z==3):\n",
    "    print(\"Answer is :\",mult)\n",
    "elif(z==4):\n",
    "    print(\"Answer is :\",div)\n",
    "else:\n",
    "    print(\"Enter number is invalid\")"
   ]
  },
  {
   "cell_type": "code",
   "execution_count": null,
   "id": "b5f478fe",
   "metadata": {},
   "outputs": [],
   "source": []
  }
 ],
 "metadata": {
  "kernelspec": {
   "display_name": "Python 3 (ipykernel)",
   "language": "python",
   "name": "python3"
  },
  "language_info": {
   "codemirror_mode": {
    "name": "ipython",
    "version": 3
   },
   "file_extension": ".py",
   "mimetype": "text/x-python",
   "name": "python",
   "nbconvert_exporter": "python",
   "pygments_lexer": "ipython3",
   "version": "3.9.7"
  }
 },
 "nbformat": 4,
 "nbformat_minor": 5
}
