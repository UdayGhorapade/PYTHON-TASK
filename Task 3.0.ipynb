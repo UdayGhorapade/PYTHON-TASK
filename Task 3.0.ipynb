{
 "cells": [
  {
   "cell_type": "code",
   "execution_count": 12,
   "metadata": {},
   "outputs": [
    {
     "name": "stdout",
     "output_type": "stream",
     "text": [
      "5\n",
      "[0, 1, 7, 2, 0, 7, 3, 4, 0, 5, 7, 6, 7, 8, 9, 7]\n",
      "[0, 0, 0, 1, 2, 3, 4, 5, 6, 7, 7, 7, 7, 7, 8, 9]\n",
      "[0, 0, 0, 1, 2, 3, 4, 5, 6, 7, 7, 7, 7, 8, 9]\n",
      "[9, 8, 7, 7, 7, 7, 6, 5, 4, 3, 2, 1, 0, 0, 0]\n",
      "[]\n"
     ]
    }
   ],
   "source": [
    "#go through other inbuilt methods like remove(),count(),clear(),sort(),reverse()\n",
    "\n",
    "l1=[0,1,7,2,0,7,3,4,0,5,7,6,7,8,9,7]\n",
    "print(l1.count(7))\n",
    "print(l1)\n",
    "l1.sort()\n",
    "print(l1)\n",
    "l1.remove(7)\n",
    "print(l1)\n",
    "l1.reverse()\n",
    "print(l1)\n",
    "l1.clear()\n",
    "print(l1)"
   ]
  },
  {
   "cell_type": "code",
   "execution_count": 1,
   "metadata": {},
   "outputs": [
    {
     "name": "stdout",
     "output_type": "stream",
     "text": [
      "<class 'list'>\n",
      "[4, 5, 6, 7, 8]\n"
     ]
    }
   ],
   "source": [
    "#3.2 create a list of lenght = 10 and access 5th to 8th data.\n",
    "l1=[0,1,2,3,4,5,6,7,8,9]\n",
    "print(type(l1))\n",
    "print(l1[4:9])"
   ]
  }
 ],
 "metadata": {
  "kernelspec": {
   "display_name": "Python 3",
   "language": "python",
   "name": "python3"
  },
  "language_info": {
   "codemirror_mode": {
    "name": "ipython",
    "version": 3
   },
   "file_extension": ".py",
   "mimetype": "text/x-python",
   "name": "python",
   "nbconvert_exporter": "python",
   "pygments_lexer": "ipython3",
   "version": "3.8.5"
  }
 },
 "nbformat": 4,
 "nbformat_minor": 4
}
