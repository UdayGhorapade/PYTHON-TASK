{
 "cells": [
  {
   "cell_type": "markdown",
   "id": "66c0d8e2",
   "metadata": {},
   "source": [
    "# Task 10\n",
    "\"\"\" \n",
    "Go through\n",
    "reduce()\n",
    "zip()\n",
    "enumerate()\n",
    "\n",
    "\"\"\""
   ]
  },
  {
   "cell_type": "markdown",
   "id": "30323e4c",
   "metadata": {},
   "source": [
    "# reduce()\n",
    "Reduce allows you to perform cumulative tasks on your iterables. \n",
    "1) \"\"\"Syntax-----> reduce(func,iterable)\"\"\"\n",
    "2) Parameter : func: a continues method to execute on each element of the iterable object. Last result is new parameter of next execution. \n",
    "3) Return value In python3, reduce() moved to functools module, so before we use it, we need to import it from functools."
   ]
  },
  {
   "cell_type": "code",
   "execution_count": 4,
   "id": "576aeb87",
   "metadata": {},
   "outputs": [
    {
     "name": "stdout",
     "output_type": "stream",
     "text": [
      "28\n"
     ]
    }
   ],
   "source": [
    "# 1st example\n",
    "from functools import reduce\n",
    "list = [1,2,3,4,5,6,7]\n",
    "result = reduce((lambda a,b: a+b), [1,2,3,4,5,6,7])\n",
    "print(result)"
   ]
  },
  {
   "cell_type": "code",
   "execution_count": 5,
   "id": "0680a9e0",
   "metadata": {},
   "outputs": [
    {
     "name": "stdout",
     "output_type": "stream",
     "text": [
      "20\n"
     ]
    }
   ],
   "source": [
    "# 2nd example\n",
    "from functools import reduce\n",
    "def multiplication(a,b):\n",
    "    return a*b\n",
    "result=reduce(multiplication,[5,4])\n",
    "print(result)"
   ]
  },
  {
   "cell_type": "markdown",
   "id": "b6317522",
   "metadata": {},
   "source": [
    "# zip()\n",
    "With zip you can combine multiple iterables into one data structure (packed). \n",
    "1) Syntax------> zip(*iterators) \n",
    "2) Parameters : iterators is iterable object such as List, String \n",
    "3) Return value: Single iterator object, contaning index value from packed object\n",
    "4) it is used to map the similar index of multiple containers so that they can be used just using a single entity."
   ]
  },
  {
   "cell_type": "code",
   "execution_count": 6,
   "id": "383cd3c2",
   "metadata": {},
   "outputs": [
    {
     "name": "stdout",
     "output_type": "stream",
     "text": [
      "[(1, 'a', 1.0), (2, 'b', 2.0), (3, 'c', 3.0), (4, 'd', 4.0), (5, 'e', 5.0)]\n"
     ]
    }
   ],
   "source": [
    "#exp 1)\n",
    "integer=[1,2,3,4,5]\n",
    "letters=['a','b','c','d','e']\n",
    "floats=[1.0,2.0,3.0,4.0,5.0]\n",
    "zipped=zip(integer,letters,floats)\n",
    "print(list(zipped))"
   ]
  },
  {
   "cell_type": "code",
   "execution_count": 8,
   "id": "7705e31e",
   "metadata": {},
   "outputs": [
    {
     "name": "stdout",
     "output_type": "stream",
     "text": [
      "{('uday', 2), ('akash', 3), ('aniket', 4), ('abhijeet', 1)}\n"
     ]
    }
   ],
   "source": [
    "# ex2)\n",
    "name=('abhijeet','uday','akash','aniket')\n",
    "roll_no=(1,2,3,4)\n",
    "mapped=zip(name,roll_no)\n",
    "print(set(mapped))"
   ]
  },
  {
   "cell_type": "markdown",
   "id": "f1543f0d",
   "metadata": {},
   "source": [
    "# enumerate\n",
    ")syntax------>\n",
    "1)it deals with the iterators\n",
    "2)it add a counter to an iterable and returns it in a form of enumerting object.this enemurated objects can then be ued directly for loops or converted into a list of tuples using the list method "
   ]
  },
  {
   "cell_type": "code",
   "execution_count": 13,
   "id": "4df166f7",
   "metadata": {},
   "outputs": [
    {
     "name": "stdout",
     "output_type": "stream",
     "text": [
      "[(0, 'uday'), (1, 'abhijeet'), (2, 'aniket')]\n"
     ]
    }
   ],
   "source": [
    "#ex1)\n",
    "l1=['uday','abhijeet','aniket']\n",
    "obj1=enumerate(l1)\n",
    "print(list(enumerate(l1)))"
   ]
  },
  {
   "cell_type": "code",
   "execution_count": 18,
   "id": "4455e36c",
   "metadata": {},
   "outputs": [
    {
     "name": "stdout",
     "output_type": "stream",
     "text": [
      "return type: <class 'enumerate'>\n"
     ]
    }
   ],
   "source": [
    "#to check the type\n",
    "print('return type:',type(obj1))"
   ]
  },
  {
   "cell_type": "code",
   "execution_count": 20,
   "id": "f603eee8",
   "metadata": {},
   "outputs": [
    {
     "name": "stdout",
     "output_type": "stream",
     "text": [
      "[(0, 'uday'), (1, 'abhijeet'), (2, 'aniket')]\n",
      "[(5, 'u'), (6, 'd'), (7, 'a'), (8, 'y')]\n"
     ]
    }
   ],
   "source": [
    "#ex2)\n",
    "l1=['uday','abhijeet','aniket']\n",
    "l2='uday'\n",
    "obj1=enumerate(l1)\n",
    "obj2=enumerate(l2)\n",
    "print(list(enumerate(l1)))\n",
    "print(list(enumerate(l2,5)))"
   ]
  },
  {
   "cell_type": "code",
   "execution_count": null,
   "id": "5957c3a3",
   "metadata": {},
   "outputs": [],
   "source": []
  }
 ],
 "metadata": {
  "kernelspec": {
   "display_name": "Python 3 (ipykernel)",
   "language": "python",
   "name": "python3"
  },
  "language_info": {
   "codemirror_mode": {
    "name": "ipython",
    "version": 3
   },
   "file_extension": ".py",
   "mimetype": "text/x-python",
   "name": "python",
   "nbconvert_exporter": "python",
   "pygments_lexer": "ipython3",
   "version": "3.9.7"
  }
 },
 "nbformat": 4,
 "nbformat_minor": 5
}
