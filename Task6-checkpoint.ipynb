{
 "cells": [
  {
   "cell_type": "code",
   "execution_count": 1,
   "id": "25c358f5",
   "metadata": {},
   "outputs": [
    {
     "data": {
      "text/plain": [
       "('mumbai', 'pune', 'delhi', 'bangalore')"
      ]
     },
     "execution_count": 1,
     "metadata": {},
     "output_type": "execute_result"
    }
   ],
   "source": [
    "# Adding element into list\n",
    "city = (\"mumbai\",\"pune\",\"delhi\")\n",
    "city = list(city)\n",
    "city.insert(3,\"bangalore\")\n",
    "city = tuple(city)\n",
    "city"
   ]
  },
  {
   "cell_type": "code",
   "execution_count": 2,
   "id": "0c666605",
   "metadata": {},
   "outputs": [
    {
     "data": {
      "text/plain": [
       "('mumbai', 'delhi', 'bangalore')"
      ]
     },
     "execution_count": 2,
     "metadata": {},
     "output_type": "execute_result"
    }
   ],
   "source": [
    "# emoving element into list\n",
    "city = list(city)\n",
    "city.remove(\"pune\")\n",
    "city=tuple(city)\n",
    "city"
   ]
  },
  {
   "cell_type": "code",
   "execution_count": null,
   "id": "cbbc25aa",
   "metadata": {},
   "outputs": [],
   "source": []
  }
 ],
 "metadata": {
  "kernelspec": {
   "display_name": "Python 3 (ipykernel)",
   "language": "python",
   "name": "python3"
  },
  "language_info": {
   "codemirror_mode": {
    "name": "ipython",
    "version": 3
   },
   "file_extension": ".py",
   "mimetype": "text/x-python",
   "name": "python",
   "nbconvert_exporter": "python",
   "pygments_lexer": "ipython3",
   "version": "3.9.7"
  }
 },
 "nbformat": 4,
 "nbformat_minor": 5
}
