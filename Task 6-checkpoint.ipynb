{
 "cells": [
  {
   "cell_type": "code",
   "execution_count": 4,
   "id": "702ebd65",
   "metadata": {},
   "outputs": [
    {
     "data": {
      "text/plain": [
       "('Sachin', 'Sehvagh', 'Ganguli', 'Yuvaraj')"
      ]
     },
     "execution_count": 4,
     "metadata": {},
     "output_type": "execute_result"
    }
   ],
   "source": [
    "# Adding element into list\n",
    "Team = (\"Sachin\",\"Sehvagh\",\"Ganguli\")\n",
    "Team = list(Team)\n",
    "Team.insert(3,\"Yuvaraj\")\n",
    "Team = tuple(Team)\n",
    "Team"
   ]
  },
  {
   "cell_type": "code",
   "execution_count": 5,
   "id": "650d56b9",
   "metadata": {},
   "outputs": [
    {
     "data": {
      "text/plain": [
       "('Sehvagh', 'Ganguli', 'Yuvaraj')"
      ]
     },
     "execution_count": 5,
     "metadata": {},
     "output_type": "execute_result"
    }
   ],
   "source": [
    "# Removing element from tuple\n",
    "Team = list(Team)\n",
    "Team.remove(\"Sachin\")\n",
    "Team = tuple(Team)\n",
    "Team"
   ]
  },
  {
   "cell_type": "code",
   "execution_count": null,
   "id": "bf627174",
   "metadata": {},
   "outputs": [],
   "source": []
  },
  {
   "cell_type": "code",
   "execution_count": null,
   "id": "d8869f10",
   "metadata": {},
   "outputs": [],
   "source": []
  },
  {
   "cell_type": "code",
   "execution_count": null,
   "id": "6f31b545",
   "metadata": {},
   "outputs": [],
   "source": []
  },
  {
   "cell_type": "code",
   "execution_count": null,
   "id": "ec8f3125",
   "metadata": {},
   "outputs": [],
   "source": []
  }
 ],
 "metadata": {
  "kernelspec": {
   "display_name": "Python 3 (ipykernel)",
   "language": "python",
   "name": "python3"
  },
  "language_info": {
   "codemirror_mode": {
    "name": "ipython",
    "version": 3
   },
   "file_extension": ".py",
   "mimetype": "text/x-python",
   "name": "python",
   "nbconvert_exporter": "python",
   "pygments_lexer": "ipython3",
   "version": "3.9.7"
  }
 },
 "nbformat": 4,
 "nbformat_minor": 5
}
