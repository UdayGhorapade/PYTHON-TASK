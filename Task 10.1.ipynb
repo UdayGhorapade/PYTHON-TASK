{
 "cells": [
  {
   "cell_type": "markdown",
   "id": "882fb3eb",
   "metadata": {},
   "source": [
    "# Use of continue \n",
    "1)continue keyword takes the execution to the begining of the loop. In other word it skips that perticular iteration\n",
    "2)when the program contol reaches the continue statement,it skips the statement ater continue.\n",
    "3)It shits to the next item in the sequence and executes the block of code for it.\n",
    "4)you can use it in both while loops as well as For loops ."
   ]
  },
  {
   "cell_type": "code",
   "execution_count": 6,
   "id": "44cde192",
   "metadata": {},
   "outputs": [
    {
     "name": "stdout",
     "output_type": "stream",
     "text": [
      "2\n",
      "4\n",
      "8\n",
      "10\n"
     ]
    }
   ],
   "source": [
    "# print only even numbers\n",
    "count = 0\n",
    "while(count<11):\n",
    "    count = count + 2\n",
    "    if(count%3 == 0):\n",
    "        continue\n",
    "    print(count)"
   ]
  },
  {
   "cell_type": "code",
   "execution_count": 9,
   "id": "2fc4a3ee",
   "metadata": {},
   "outputs": [
    {
     "name": "stdout",
     "output_type": "stream",
     "text": [
      "0\n",
      "2\n",
      "4\n",
      "6\n",
      "8\n",
      "good bye\n"
     ]
    }
   ],
   "source": [
    "#ex 2\n",
    "for n in range (10):\n",
    "    if n%2==1:\n",
    "          continue \n",
    "    print(n) \n",
    "print('good bye')\n",
    "        \n",
    "      "
   ]
  },
  {
   "cell_type": "code",
   "execution_count": null,
   "id": "9955d093",
   "metadata": {},
   "outputs": [],
   "source": []
  }
 ],
 "metadata": {
  "kernelspec": {
   "display_name": "Python 3 (ipykernel)",
   "language": "python",
   "name": "python3"
  },
  "language_info": {
   "codemirror_mode": {
    "name": "ipython",
    "version": 3
   },
   "file_extension": ".py",
   "mimetype": "text/x-python",
   "name": "python",
   "nbconvert_exporter": "python",
   "pygments_lexer": "ipython3",
   "version": "3.9.7"
  }
 },
 "nbformat": 4,
 "nbformat_minor": 5
}
